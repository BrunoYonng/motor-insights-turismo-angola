{
 "cells": [
  {
   "cell_type": "markdown",
   "id": "255c3efb",
   "metadata": {},
   "source": [
    "# Motor de Insights para Planeamento Turístico Sustentável\n"
   ]
  },
  {
   "cell_type": "markdown",
   "id": "5fa9ecf9",
   "metadata": {
    "jp-MarkdownHeadingCollapsed": true
   },
   "source": [
    "## Sumário\n",
    "\n",
    "1. Preparação de Dados e Engenharia de Features\n",
    "2. Refinamento e Validação de Modelos\n",
    "3. Implantação (simulação e salvamento)\n"
   ]
  },
  {
   "cell_type": "markdown",
   "id": "54dbe60e",
   "metadata": {},
   "source": [
    "## 1. Preparação de Dados e Engenharia de Features\n",
    "\n",
    "Nesta fase vamos criar um conjunto de dados sintético que reflita as variáveis que identificámos na recolha teórica: fluxos de visitantes, ocupação hoteleira, receitas, empregos, indicadores de sustentabilidade, entre outros. Em seguida, vamos limpar os dados, criar novas variáveis (features) e explorar rapidamente a informação."
   ]
  },
  {
   "cell_type": "code",
   "execution_count": 4,
   "id": "43428a79",
   "metadata": {},
   "outputs": [
    {
     "name": "stderr",
     "output_type": "stream",
     "text": [
      "C:\\Users\\DAM\\AppData\\Local\\Temp\\ipykernel_3768\\2641768952.py:10: FutureWarning: 'M' is deprecated and will be removed in a future version, please use 'ME' instead.\n",
      "  meses = pd.date_range(start=start, end=end, freq='M')\n"
     ]
    },
    {
     "data": {
      "text/html": [
       "<div>\n",
       "<style scoped>\n",
       "    .dataframe tbody tr th:only-of-type {\n",
       "        vertical-align: middle;\n",
       "    }\n",
       "\n",
       "    .dataframe tbody tr th {\n",
       "        vertical-align: top;\n",
       "    }\n",
       "\n",
       "    .dataframe thead th {\n",
       "        text-align: right;\n",
       "    }\n",
       "</style>\n",
       "<table border=\"1\" class=\"dataframe\">\n",
       "  <thead>\n",
       "    <tr style=\"text-align: right;\">\n",
       "      <th></th>\n",
       "      <th>data</th>\n",
       "      <th>provincia</th>\n",
       "      <th>visitantes_totais</th>\n",
       "      <th>ocupacao_hoteleira</th>\n",
       "      <th>receita_turistica</th>\n",
       "      <th>empregos_gerados</th>\n",
       "      <th>indice_sustentabilidade</th>\n",
       "      <th>temperatura_media</th>\n",
       "      <th>satisfacao_turistica</th>\n",
       "    </tr>\n",
       "  </thead>\n",
       "  <tbody>\n",
       "    <tr>\n",
       "      <th>0</th>\n",
       "      <td>2022-01-31</td>\n",
       "      <td>Benguela</td>\n",
       "      <td>6554</td>\n",
       "      <td>69.11</td>\n",
       "      <td>3.588139e+08</td>\n",
       "      <td>151</td>\n",
       "      <td>53.8</td>\n",
       "      <td>25.4</td>\n",
       "      <td>6.21</td>\n",
       "    </tr>\n",
       "    <tr>\n",
       "      <th>1</th>\n",
       "      <td>2022-02-28</td>\n",
       "      <td>Benguela</td>\n",
       "      <td>7112</td>\n",
       "      <td>56.82</td>\n",
       "      <td>2.405666e+08</td>\n",
       "      <td>148</td>\n",
       "      <td>83.3</td>\n",
       "      <td>24.1</td>\n",
       "      <td>6.22</td>\n",
       "    </tr>\n",
       "    <tr>\n",
       "      <th>2</th>\n",
       "      <td>2022-03-31</td>\n",
       "      <td>Benguela</td>\n",
       "      <td>7270</td>\n",
       "      <td>57.56</td>\n",
       "      <td>3.644542e+08</td>\n",
       "      <td>155</td>\n",
       "      <td>87.0</td>\n",
       "      <td>27.1</td>\n",
       "      <td>5.18</td>\n",
       "    </tr>\n",
       "    <tr>\n",
       "      <th>3</th>\n",
       "      <td>2022-04-30</td>\n",
       "      <td>Benguela</td>\n",
       "      <td>6992</td>\n",
       "      <td>46.13</td>\n",
       "      <td>2.664012e+08</td>\n",
       "      <td>143</td>\n",
       "      <td>85.0</td>\n",
       "      <td>18.5</td>\n",
       "      <td>5.77</td>\n",
       "    </tr>\n",
       "    <tr>\n",
       "      <th>4</th>\n",
       "      <td>2022-05-31</td>\n",
       "      <td>Benguela</td>\n",
       "      <td>6729</td>\n",
       "      <td>34.04</td>\n",
       "      <td>1.991680e+08</td>\n",
       "      <td>155</td>\n",
       "      <td>66.5</td>\n",
       "      <td>25.3</td>\n",
       "      <td>8.73</td>\n",
       "    </tr>\n",
       "  </tbody>\n",
       "</table>\n",
       "</div>"
      ],
      "text/plain": [
       "        data provincia  visitantes_totais  ocupacao_hoteleira  \\\n",
       "0 2022-01-31  Benguela               6554               69.11   \n",
       "1 2022-02-28  Benguela               7112               56.82   \n",
       "2 2022-03-31  Benguela               7270               57.56   \n",
       "3 2022-04-30  Benguela               6992               46.13   \n",
       "4 2022-05-31  Benguela               6729               34.04   \n",
       "\n",
       "   receita_turistica  empregos_gerados  indice_sustentabilidade  \\\n",
       "0       3.588139e+08               151                     53.8   \n",
       "1       2.405666e+08               148                     83.3   \n",
       "2       3.644542e+08               155                     87.0   \n",
       "3       2.664012e+08               143                     85.0   \n",
       "4       1.991680e+08               155                     66.5   \n",
       "\n",
       "   temperatura_media  satisfacao_turistica  \n",
       "0               25.4                  6.21  \n",
       "1               24.1                  6.22  \n",
       "2               27.1                  5.18  \n",
       "3               18.5                  5.77  \n",
       "4               25.3                  8.73  "
      ]
     },
     "execution_count": 4,
     "metadata": {},
     "output_type": "execute_result"
    }
   ],
   "source": [
    "# Importações necessárias\n",
    "import pandas as pd\n",
    "import numpy as np\n",
    "\n",
    "# Função para criar dados sintéticos por província e mês\n",
    "def gerar_dados_sinteticos(start='2022-01-01', end='2024-12-31', provincias=None, seed=42):\n",
    "    np.random.seed(seed)\n",
    "    if provincias is None:\n",
    "        provincias = ['Luanda', 'Benguela', 'Namibe', 'Huíla']\n",
    "    meses = pd.date_range(start=start, end=end, freq='M')\n",
    "    rows = []\n",
    "    for prov in provincias:\n",
    "        base_visitantes = {'Luanda':15000, 'Benguela':8000, 'Namibe':6000, 'Huíla':3000}[prov]\n",
    "        seasonal_factor = {'Luanda':1.0, 'Benguela':0.9, 'Namibe':0.8, 'Huíla':0.7}[prov]\n",
    "        for m in meses:\n",
    "            month = m.month\n",
    "            # Sazonalidade simples: pico em julho-agosto e dezembro\n",
    "            saz = 1 + 0.25 * (1 if month in [7,8,12] else 0)\n",
    "            visitantes = int(base_visitantes * saz * seasonal_factor * (0.9 + 0.2*np.random.rand()))\n",
    "            ocupacao = max(10, min(95, np.random.normal(50 + 10*(saz-1), 8)))\n",
    "            receita = visitantes * (np.random.normal(40000, 8000))  # Kz por visitante média\n",
    "            empregos = int(visitantes * (0.02 + 0.005*np.random.rand()))  # proporção de empregos\n",
    "            indice_sust = max(0, min(100, np.random.normal(70 - 5*(saz-1), 8)))\n",
    "            temp = np.random.normal(25 - 3*(prov=='Huíla'), 2)  # Huíla um pouco mais frio\n",
    "            satisfacao = max(0, min(10, np.random.normal(7 + 0.5*(saz-1), 1.2)))\n",
    "            rows.append({\n",
    "                'data': m,\n",
    "                'provincia': prov,\n",
    "                'visitantes_totais': visitantes,\n",
    "                'ocupacao_hoteleira': round(ocupacao,2),\n",
    "                'receita_turistica': round(receita,2),\n",
    "                'empregos_gerados': empregos,\n",
    "                'indice_sustentabilidade': round(indice_sust,1),\n",
    "                'temperatura_media': round(temp,1),\n",
    "                'satisfacao_turistica': round(satisfacao,2)\n",
    "            })\n",
    "    df = pd.DataFrame(rows)\n",
    "    df = df.sort_values(['provincia','data']).reset_index(drop=True)\n",
    "    return df\n",
    "\n",
    "# Gerar os dados\n",
    "df = gerar_dados_sinteticos()\n",
    "df.head()"
   ]
  },
  {
   "cell_type": "markdown",
   "id": "98370f1d",
   "metadata": {},
   "source": [
    "### Obs:\n",
    "\n",
    "Os valores acima são sintéticos e foram gerados para demonstrar o pipeline. Como podem ver, **Benguela** se repete desde 0 até 4. Não é um erro de geração de dados, mas sim a forma como o **df.head()** funciona. Ele mostra apenas as primeiras 5 linhas do **DataFrame** e, por coincidência, como os dados são ordenados por provínvias antes de exibir, as primeiras 5 linhas pertencem à primeira província da lista, qe é **Benguela** na ordem alfabética ou conforme o loop."
   ]
  },
  {
   "cell_type": "markdown",
   "id": "fe09ae8b",
   "metadata": {},
   "source": [
    "### Exportação dos Dados Sintéticos\n",
    "\n",
    "Após a criação do dataset fictício, os dados são guardados em formato `.csv` dentro da pasta\n",
    "`data/raw/`, permitindo reprodutibilidade e uso futuro no modelo ou na interface web."
   ]
  },
  {
   "cell_type": "code",
   "execution_count": 7,
   "id": "3470c149-d462-4af8-9d4b-fc02d59e59e9",
   "metadata": {},
   "outputs": [
    {
     "name": "stdout",
     "output_type": "stream",
     "text": [
      "Dataset sintético salvo com sucesso em '../data/raw/dados_brutos_demo.csv'\n"
     ]
    }
   ],
   "source": [
    "import os\n",
    "\n",
    "# Criar diretório data/raw caso não exista\n",
    "os.makedirs(\"../data/raw\", exist_ok=True)\n",
    "\n",
    "# Salvar o dataset gerado\n",
    "df.to_csv(\"../data/raw/dados_brutos_demo.csv\", index=False)\n",
    "print(\"Dataset sintético salvo com sucesso em '../data/raw/dados_brutos_demo.csv'\")\n"
   ]
  },
  {
   "cell_type": "markdown",
   "id": "418ff1e6-b1e1-4b94-99a2-a6cf1c75f4d9",
   "metadata": {},
   "source": [
    "### Limpeza de Dados\n",
    "\n",
    "Agora vamos tratar problemas comuns: duplicados, tipos de dados e valores ausentes. Em bases reais podemos ter faltas e entradas inconsistentes; aqui mostramos técnicas simples para resolver isso."
   ]
  },
  {
   "cell_type": "code",
   "execution_count": 9,
   "id": "9844a52a",
   "metadata": {},
   "outputs": [
    {
     "name": "stdout",
     "output_type": "stream",
     "text": [
      "Valores nulos por coluna:\n",
      " data                       0\n",
      "provincia                  0\n",
      "visitantes_totais          0\n",
      "ocupacao_hoteleira         0\n",
      "receita_turistica          0\n",
      "empregos_gerados           0\n",
      "indice_sustentabilidade    0\n",
      "temperatura_media          0\n",
      "satisfacao_turistica       0\n",
      "dtype: int64\n",
      "Após imputação, nulos:\n",
      "data                       0\n",
      "provincia                  0\n",
      "visitantes_totais          0\n",
      "ocupacao_hoteleira         0\n",
      "receita_turistica          0\n",
      "empregos_gerados           0\n",
      "indice_sustentabilidade    0\n",
      "temperatura_media          0\n",
      "satisfacao_turistica       0\n",
      "dtype: int64\n"
     ]
    }
   ],
   "source": [
    "# Limpeza simples\n",
    "df = df.drop_duplicates().copy()\n",
    "# Garantir tipos\n",
    "df['data'] = pd.to_datetime(df['data'])\n",
    "# Verificar nulos\n",
    "print('Valores nulos por coluna:\\n', df.isnull().sum())\n",
    "\n",
    "# Introduzir intencionalmente alguns nulos para demonstrar imputação (apenas demo)\n",
    "df.loc[df.sample(frac=0.01, random_state=1).index, 'ocupacao_hoteleira'] = np.nan\n",
    "df.loc[df.sample(frac=0.01, random_state=2).index, 'receita_turistica'] = np.nan\n",
    "\n",
    "# Imputar ocupacao com média por província e receita com interpolação temporal por província\n",
    "df['ocupacao_hoteleira'] = df.groupby('provincia')['ocupacao_hoteleira'].transform(lambda x: x.fillna(x.mean()))\n",
    "df['receita_turistica'] = df.groupby('provincia')['receita_turistica'].transform(lambda x: x.interpolate())\n",
    "\n",
    "print('Após imputação, nulos:') \n",
    "print(df.isnull().sum())"
   ]
  },
  {
   "cell_type": "markdown",
   "id": "755fc09f",
   "metadata": {},
   "source": [
    "### Att:\n",
    "\n",
    "Valores ausentes e erros acontecem em dados reais. Se não tratarmos, os modelos podem falhar ou ter previsões erradas. Por isso aplicamos imputação simples e interpolação temporal quando faz sentido."
   ]
  },
  {
   "cell_type": "markdown",
   "id": "01e3f4d6",
   "metadata": {},
   "source": [
    "### Análise Exploratória (EDA)\n",
    "\n",
    "Vamos ver algumas estatísticas e um gráfico simples para entender sazonalidade e distribuição por província."
   ]
  },
  {
   "cell_type": "code",
   "execution_count": 12,
   "id": "110158cd",
   "metadata": {},
   "outputs": [
    {
     "data": {
      "text/html": [
       "<div>\n",
       "<style scoped>\n",
       "    .dataframe tbody tr th:only-of-type {\n",
       "        vertical-align: middle;\n",
       "    }\n",
       "\n",
       "    .dataframe tbody tr th {\n",
       "        vertical-align: top;\n",
       "    }\n",
       "\n",
       "    .dataframe thead th {\n",
       "        text-align: right;\n",
       "    }\n",
       "</style>\n",
       "<table border=\"1\" class=\"dataframe\">\n",
       "  <thead>\n",
       "    <tr style=\"text-align: right;\">\n",
       "      <th></th>\n",
       "      <th>provincia</th>\n",
       "      <th>Benguela</th>\n",
       "      <th>Huíla</th>\n",
       "      <th>Luanda</th>\n",
       "      <th>Namibe</th>\n",
       "    </tr>\n",
       "  </thead>\n",
       "  <tbody>\n",
       "    <tr>\n",
       "      <th rowspan=\"8\" valign=\"top\">visitantes_totais</th>\n",
       "      <th>count</th>\n",
       "      <td>3.600000e+01</td>\n",
       "      <td>3.600000e+01</td>\n",
       "      <td>3.600000e+01</td>\n",
       "      <td>3.600000e+01</td>\n",
       "    </tr>\n",
       "    <tr>\n",
       "      <th>mean</th>\n",
       "      <td>7.663833e+03</td>\n",
       "      <td>2.199083e+03</td>\n",
       "      <td>1.608889e+04</td>\n",
       "      <td>4.962194e+03</td>\n",
       "    </tr>\n",
       "    <tr>\n",
       "      <th>std</th>\n",
       "      <td>1.019668e+03</td>\n",
       "      <td>2.753288e+02</td>\n",
       "      <td>1.658202e+03</td>\n",
       "      <td>5.129488e+02</td>\n",
       "    </tr>\n",
       "    <tr>\n",
       "      <th>min</th>\n",
       "      <td>6.554000e+03</td>\n",
       "      <td>1.924000e+03</td>\n",
       "      <td>1.351500e+04</td>\n",
       "      <td>4.355000e+03</td>\n",
       "    </tr>\n",
       "    <tr>\n",
       "      <th>25%</th>\n",
       "      <td>6.979000e+03</td>\n",
       "      <td>1.998000e+03</td>\n",
       "      <td>1.511900e+04</td>\n",
       "      <td>4.592250e+03</td>\n",
       "    </tr>\n",
       "    <tr>\n",
       "      <th>50%</th>\n",
       "      <td>7.377500e+03</td>\n",
       "      <td>2.106500e+03</td>\n",
       "      <td>1.590300e+04</td>\n",
       "      <td>4.787000e+03</td>\n",
       "    </tr>\n",
       "    <tr>\n",
       "      <th>75%</th>\n",
       "      <td>7.955750e+03</td>\n",
       "      <td>2.309500e+03</td>\n",
       "      <td>1.663050e+04</td>\n",
       "      <td>5.267750e+03</td>\n",
       "    </tr>\n",
       "    <tr>\n",
       "      <th>max</th>\n",
       "      <td>9.831000e+03</td>\n",
       "      <td>2.815000e+03</td>\n",
       "      <td>2.027800e+04</td>\n",
       "      <td>6.232000e+03</td>\n",
       "    </tr>\n",
       "    <tr>\n",
       "      <th rowspan=\"8\" valign=\"top\">receita_turistica</th>\n",
       "      <th>count</th>\n",
       "      <td>3.600000e+01</td>\n",
       "      <td>3.600000e+01</td>\n",
       "      <td>3.600000e+01</td>\n",
       "      <td>3.600000e+01</td>\n",
       "    </tr>\n",
       "    <tr>\n",
       "      <th>mean</th>\n",
       "      <td>2.970372e+08</td>\n",
       "      <td>8.657912e+07</td>\n",
       "      <td>6.603163e+08</td>\n",
       "      <td>1.916915e+08</td>\n",
       "    </tr>\n",
       "    <tr>\n",
       "      <th>std</th>\n",
       "      <td>7.403040e+07</td>\n",
       "      <td>1.776655e+07</td>\n",
       "      <td>1.455656e+08</td>\n",
       "      <td>4.955525e+07</td>\n",
       "    </tr>\n",
       "    <tr>\n",
       "      <th>min</th>\n",
       "      <td>1.801221e+08</td>\n",
       "      <td>5.009839e+07</td>\n",
       "      <td>4.090336e+08</td>\n",
       "      <td>1.050480e+08</td>\n",
       "    </tr>\n",
       "    <tr>\n",
       "      <th>25%</th>\n",
       "      <td>2.446322e+08</td>\n",
       "      <td>7.538746e+07</td>\n",
       "      <td>5.392703e+08</td>\n",
       "      <td>1.532432e+08</td>\n",
       "    </tr>\n",
       "    <tr>\n",
       "      <th>50%</th>\n",
       "      <td>2.932856e+08</td>\n",
       "      <td>8.798983e+07</td>\n",
       "      <td>6.426407e+08</td>\n",
       "      <td>1.903208e+08</td>\n",
       "    </tr>\n",
       "    <tr>\n",
       "      <th>75%</th>\n",
       "      <td>3.437369e+08</td>\n",
       "      <td>9.703933e+07</td>\n",
       "      <td>7.609513e+08</td>\n",
       "      <td>2.262592e+08</td>\n",
       "    </tr>\n",
       "    <tr>\n",
       "      <th>max</th>\n",
       "      <td>4.527544e+08</td>\n",
       "      <td>1.414018e+08</td>\n",
       "      <td>9.828285e+08</td>\n",
       "      <td>2.912507e+08</td>\n",
       "    </tr>\n",
       "    <tr>\n",
       "      <th rowspan=\"8\" valign=\"top\">ocupacao_hoteleira</th>\n",
       "      <th>count</th>\n",
       "      <td>3.600000e+01</td>\n",
       "      <td>3.600000e+01</td>\n",
       "      <td>3.600000e+01</td>\n",
       "      <td>3.600000e+01</td>\n",
       "    </tr>\n",
       "    <tr>\n",
       "      <th>mean</th>\n",
       "      <td>5.002694e+01</td>\n",
       "      <td>5.445806e+01</td>\n",
       "      <td>5.003457e+01</td>\n",
       "      <td>5.186250e+01</td>\n",
       "    </tr>\n",
       "    <tr>\n",
       "      <th>std</th>\n",
       "      <td>8.713021e+00</td>\n",
       "      <td>7.847398e+00</td>\n",
       "      <td>9.692115e+00</td>\n",
       "      <td>8.749483e+00</td>\n",
       "    </tr>\n",
       "    <tr>\n",
       "      <th>min</th>\n",
       "      <td>3.404000e+01</td>\n",
       "      <td>3.453000e+01</td>\n",
       "      <td>2.876000e+01</td>\n",
       "      <td>3.248000e+01</td>\n",
       "    </tr>\n",
       "    <tr>\n",
       "      <th>25%</th>\n",
       "      <td>4.427250e+01</td>\n",
       "      <td>5.033000e+01</td>\n",
       "      <td>4.164750e+01</td>\n",
       "      <td>4.596000e+01</td>\n",
       "    </tr>\n",
       "    <tr>\n",
       "      <th>50%</th>\n",
       "      <td>4.819000e+01</td>\n",
       "      <td>5.550000e+01</td>\n",
       "      <td>5.058000e+01</td>\n",
       "      <td>5.003500e+01</td>\n",
       "    </tr>\n",
       "    <tr>\n",
       "      <th>75%</th>\n",
       "      <td>5.720000e+01</td>\n",
       "      <td>5.906500e+01</td>\n",
       "      <td>5.638000e+01</td>\n",
       "      <td>5.742250e+01</td>\n",
       "    </tr>\n",
       "    <tr>\n",
       "      <th>max</th>\n",
       "      <td>6.911000e+01</td>\n",
       "      <td>6.755000e+01</td>\n",
       "      <td>7.698000e+01</td>\n",
       "      <td>7.056000e+01</td>\n",
       "    </tr>\n",
       "  </tbody>\n",
       "</table>\n",
       "</div>"
      ],
      "text/plain": [
       "provincia                     Benguela         Huíla        Luanda  \\\n",
       "visitantes_totais  count  3.600000e+01  3.600000e+01  3.600000e+01   \n",
       "                   mean   7.663833e+03  2.199083e+03  1.608889e+04   \n",
       "                   std    1.019668e+03  2.753288e+02  1.658202e+03   \n",
       "                   min    6.554000e+03  1.924000e+03  1.351500e+04   \n",
       "                   25%    6.979000e+03  1.998000e+03  1.511900e+04   \n",
       "                   50%    7.377500e+03  2.106500e+03  1.590300e+04   \n",
       "                   75%    7.955750e+03  2.309500e+03  1.663050e+04   \n",
       "                   max    9.831000e+03  2.815000e+03  2.027800e+04   \n",
       "receita_turistica  count  3.600000e+01  3.600000e+01  3.600000e+01   \n",
       "                   mean   2.970372e+08  8.657912e+07  6.603163e+08   \n",
       "                   std    7.403040e+07  1.776655e+07  1.455656e+08   \n",
       "                   min    1.801221e+08  5.009839e+07  4.090336e+08   \n",
       "                   25%    2.446322e+08  7.538746e+07  5.392703e+08   \n",
       "                   50%    2.932856e+08  8.798983e+07  6.426407e+08   \n",
       "                   75%    3.437369e+08  9.703933e+07  7.609513e+08   \n",
       "                   max    4.527544e+08  1.414018e+08  9.828285e+08   \n",
       "ocupacao_hoteleira count  3.600000e+01  3.600000e+01  3.600000e+01   \n",
       "                   mean   5.002694e+01  5.445806e+01  5.003457e+01   \n",
       "                   std    8.713021e+00  7.847398e+00  9.692115e+00   \n",
       "                   min    3.404000e+01  3.453000e+01  2.876000e+01   \n",
       "                   25%    4.427250e+01  5.033000e+01  4.164750e+01   \n",
       "                   50%    4.819000e+01  5.550000e+01  5.058000e+01   \n",
       "                   75%    5.720000e+01  5.906500e+01  5.638000e+01   \n",
       "                   max    6.911000e+01  6.755000e+01  7.698000e+01   \n",
       "\n",
       "provincia                       Namibe  \n",
       "visitantes_totais  count  3.600000e+01  \n",
       "                   mean   4.962194e+03  \n",
       "                   std    5.129488e+02  \n",
       "                   min    4.355000e+03  \n",
       "                   25%    4.592250e+03  \n",
       "                   50%    4.787000e+03  \n",
       "                   75%    5.267750e+03  \n",
       "                   max    6.232000e+03  \n",
       "receita_turistica  count  3.600000e+01  \n",
       "                   mean   1.916915e+08  \n",
       "                   std    4.955525e+07  \n",
       "                   min    1.050480e+08  \n",
       "                   25%    1.532432e+08  \n",
       "                   50%    1.903208e+08  \n",
       "                   75%    2.262592e+08  \n",
       "                   max    2.912507e+08  \n",
       "ocupacao_hoteleira count  3.600000e+01  \n",
       "                   mean   5.186250e+01  \n",
       "                   std    8.749483e+00  \n",
       "                   min    3.248000e+01  \n",
       "                   25%    4.596000e+01  \n",
       "                   50%    5.003500e+01  \n",
       "                   75%    5.742250e+01  \n",
       "                   max    7.056000e+01  "
      ]
     },
     "metadata": {},
     "output_type": "display_data"
    },
    {
     "data": {
      "text/html": [
       "<div>\n",
       "<style scoped>\n",
       "    .dataframe tbody tr th:only-of-type {\n",
       "        vertical-align: middle;\n",
       "    }\n",
       "\n",
       "    .dataframe tbody tr th {\n",
       "        vertical-align: top;\n",
       "    }\n",
       "\n",
       "    .dataframe thead th {\n",
       "        text-align: right;\n",
       "    }\n",
       "</style>\n",
       "<table border=\"1\" class=\"dataframe\">\n",
       "  <thead>\n",
       "    <tr style=\"text-align: right;\">\n",
       "      <th></th>\n",
       "      <th>data</th>\n",
       "      <th>visitantes_totais</th>\n",
       "    </tr>\n",
       "  </thead>\n",
       "  <tbody>\n",
       "    <tr>\n",
       "      <th>0</th>\n",
       "      <td>2022-01-31</td>\n",
       "      <td>27854</td>\n",
       "    </tr>\n",
       "    <tr>\n",
       "      <th>1</th>\n",
       "      <td>2022-02-28</td>\n",
       "      <td>27930</td>\n",
       "    </tr>\n",
       "    <tr>\n",
       "      <th>2</th>\n",
       "      <td>2022-03-31</td>\n",
       "      <td>29159</td>\n",
       "    </tr>\n",
       "    <tr>\n",
       "      <th>3</th>\n",
       "      <td>2022-04-30</td>\n",
       "      <td>29305</td>\n",
       "    </tr>\n",
       "    <tr>\n",
       "      <th>4</th>\n",
       "      <td>2022-05-31</td>\n",
       "      <td>29026</td>\n",
       "    </tr>\n",
       "  </tbody>\n",
       "</table>\n",
       "</div>"
      ],
      "text/plain": [
       "        data  visitantes_totais\n",
       "0 2022-01-31              27854\n",
       "1 2022-02-28              27930\n",
       "2 2022-03-31              29159\n",
       "3 2022-04-30              29305\n",
       "4 2022-05-31              29026"
      ]
     },
     "execution_count": 12,
     "metadata": {},
     "output_type": "execute_result"
    }
   ],
   "source": [
    "# Estatísticas por província\n",
    "display(df.groupby('provincia')[['visitantes_totais','receita_turistica','ocupacao_hoteleira']].describe().T)\n",
    "\n",
    "# Série temporal agregada (exemplo): visitantes nacionais por mês\n",
    "df_nacional = df.groupby('data')['visitantes_totais'].sum().reset_index()\n",
    "df_nacional.head()"
   ]
  },
  {
   "cell_type": "code",
   "execution_count": 13,
   "id": "3ebe40dd",
   "metadata": {},
   "outputs": [
    {
     "data": {
      "image/png": "[encoded data removed]",
      "text/plain": [
       "<Figure size 1000x400 with 1 Axes>"
      ]
     },
     "metadata": {},
     "output_type": "display_data"
    }
   ],
   "source": [
    "import matplotlib.pyplot as plt\n",
    "plt.figure(figsize=(10,4))\n",
    "plt.plot(df_nacional['data'], df_nacional['visitantes_totais'], marker='o')\n",
    "plt.title('Visitantes Totais (agregado nacional) - série mensal')\n",
    "plt.xlabel('Data')\n",
    "plt.ylabel('Visitantes')\n",
    "plt.grid(True)\n",
    "plt.tight_layout()\n",
    "plt.show()"
   ]
  },
  {
   "cell_type": "markdown",
   "id": "54299e64",
   "metadata": {},
   "source": [
    "### Engenharia de Features\n",
    "\n",
    "Vamos criar variáveis como receita per capita, taxa de variação (sazonalidade) e densidade relativa (simulada). Explico de forma simples o que cada uma faz no modelo."
   ]
  },
  {
   "cell_type": "code",
   "execution_count": 15,
   "id": "b52c308b",
   "metadata": {},
   "outputs": [
    {
     "data": {
      "text/html": [
       "<div>\n",
       "<style scoped>\n",
       "    .dataframe tbody tr th:only-of-type {\n",
       "        vertical-align: middle;\n",
       "    }\n",
       "\n",
       "    .dataframe tbody tr th {\n",
       "        vertical-align: top;\n",
       "    }\n",
       "\n",
       "    .dataframe thead th {\n",
       "        text-align: right;\n",
       "    }\n",
       "</style>\n",
       "<table border=\"1\" class=\"dataframe\">\n",
       "  <thead>\n",
       "    <tr style=\"text-align: right;\">\n",
       "      <th></th>\n",
       "      <th>data</th>\n",
       "      <th>provincia</th>\n",
       "      <th>visitantes_totais</th>\n",
       "      <th>receita_per_capita</th>\n",
       "      <th>pct_var_visitantes_3m</th>\n",
       "      <th>densidade_turistica</th>\n",
       "    </tr>\n",
       "  </thead>\n",
       "  <tbody>\n",
       "    <tr>\n",
       "      <th>0</th>\n",
       "      <td>2022-01-31</td>\n",
       "      <td>Benguela</td>\n",
       "      <td>6554</td>\n",
       "      <td>54747.310067</td>\n",
       "      <td>0.000000</td>\n",
       "      <td>0.008193</td>\n",
       "    </tr>\n",
       "    <tr>\n",
       "      <th>1</th>\n",
       "      <td>2022-02-28</td>\n",
       "      <td>Benguela</td>\n",
       "      <td>7112</td>\n",
       "      <td>33825.447378</td>\n",
       "      <td>0.000000</td>\n",
       "      <td>0.008890</td>\n",
       "    </tr>\n",
       "    <tr>\n",
       "      <th>2</th>\n",
       "      <td>2022-03-31</td>\n",
       "      <td>Benguela</td>\n",
       "      <td>7270</td>\n",
       "      <td>50131.254843</td>\n",
       "      <td>0.000000</td>\n",
       "      <td>0.009088</td>\n",
       "    </tr>\n",
       "    <tr>\n",
       "      <th>3</th>\n",
       "      <td>2022-04-30</td>\n",
       "      <td>Benguela</td>\n",
       "      <td>6992</td>\n",
       "      <td>38100.864311</td>\n",
       "      <td>0.066829</td>\n",
       "      <td>0.008740</td>\n",
       "    </tr>\n",
       "    <tr>\n",
       "      <th>4</th>\n",
       "      <td>2022-05-31</td>\n",
       "      <td>Benguela</td>\n",
       "      <td>6729</td>\n",
       "      <td>29598.457267</td>\n",
       "      <td>-0.053853</td>\n",
       "      <td>0.008411</td>\n",
       "    </tr>\n",
       "  </tbody>\n",
       "</table>\n",
       "</div>"
      ],
      "text/plain": [
       "        data provincia  visitantes_totais  receita_per_capita  \\\n",
       "0 2022-01-31  Benguela               6554        54747.310067   \n",
       "1 2022-02-28  Benguela               7112        33825.447378   \n",
       "2 2022-03-31  Benguela               7270        50131.254843   \n",
       "3 2022-04-30  Benguela               6992        38100.864311   \n",
       "4 2022-05-31  Benguela               6729        29598.457267   \n",
       "\n",
       "   pct_var_visitantes_3m  densidade_turistica  \n",
       "0               0.000000             0.008193  \n",
       "1               0.000000             0.008890  \n",
       "2               0.000000             0.009088  \n",
       "3               0.066829             0.008740  \n",
       "4              -0.053853             0.008411  "
      ]
     },
     "execution_count": 15,
     "metadata": {},
     "output_type": "execute_result"
    }
   ],
   "source": [
    "# Engenharia de features\n",
    "df['receita_per_capita'] = df['receita_turistica'] / df['visitantes_totais']\n",
    "df['pct_var_visitantes_3m'] = df.groupby('provincia')['visitantes_totais'].pct_change(periods=3).fillna(0)\n",
    "# Densidade turística relativa (simples): visitantes / (base populacional simulada)\n",
    "pop_sim = {'Luanda':3000000, 'Benguela':800000, 'Namibe':400000, 'Huíla':500000}\n",
    "df['densidade_turistica'] = df.apply(lambda r: r['visitantes_totais'] / pop_sim[r['provincia']], axis=1)\n",
    "\n",
    "df[['data','provincia','visitantes_totais','receita_per_capita','pct_var_visitantes_3m','densidade_turistica']].head()"
   ]
  },
  {
   "cell_type": "markdown",
   "id": "491647ee",
   "metadata": {},
   "source": [
    "### Obs:\n",
    "\n",
    "Criar features ajuda o modelo a 'entender' relações. Por exemplo, receita per capita relaciona dinheiro gasto com número de visitantes; a variação em 3 meses mostra tendência recente."
   ]
  },
  {
   "cell_type": "markdown",
   "id": "9598d8a0",
   "metadata": {},
   "source": [
    "## 2. Refinamento e Validação de Modelos\n",
    "\n",
    "Vamos escolher um caso prático para treino: previsão do número de visitantes por província. Para simplificar, treinaremos um RandomForest para prever `visitantes_totais` usando features que criámos. Também mostramos como preparar dados para modelos temporais como Prophet (quando disponível)."
   ]
  },
  {
   "cell_type": "code",
   "execution_count": 18,
   "id": "68acbce0",
   "metadata": {},
   "outputs": [
    {
     "name": "stdout",
     "output_type": "stream",
     "text": [
      "Tamanhos -> treino: (28, 6) teste: (8, 6)\n"
     ]
    }
   ],
   "source": [
    "# Escolher província para exemplo de modelagem\n",
    "prov_sel = 'Luanda'\n",
    "df_model = df[df['provincia']==prov_sel].copy().reset_index(drop=True)\n",
    "\n",
    "# Features e alvo\n",
    "features = ['ocupacao_hoteleira','receita_per_capita','pct_var_visitantes_3m','densidade_turistica','indice_sustentabilidade','temperatura_media']\n",
    "X = df_model[features].fillna(0)\n",
    "y = df_model['visitantes_totais']\n",
    "\n",
    "# Separar treino/teste (time-aware: usar últimos 20% como teste)\n",
    "split_idx = int(len(df_model)*0.8)\n",
    "X_train, X_test = X.iloc[:split_idx], X.iloc[split_idx:]\n",
    "y_train, y_test = y.iloc[:split_idx], y.iloc[split_idx:]\n",
    "print('Tamanhos -> treino:', X_train.shape, 'teste:', X_test.shape)"
   ]
  },
  {
   "cell_type": "code",
   "execution_count": 19,
   "id": "1d5f8120",
   "metadata": {},
   "outputs": [
    {
     "name": "stdout",
     "output_type": "stream",
     "text": [
      "MAE: 222.01, RMSE: 438.57, R2: 0.932\n"
     ]
    },
    {
     "name": "stderr",
     "output_type": "stream",
     "text": [
      "C:\\Users\\DAM\\anaconda3\\Lib\\site-packages\\sklearn\\metrics\\_regression.py:492: FutureWarning: 'squared' is deprecated in version 1.4 and will be removed in 1.6. To calculate the root mean squared error, use the function'root_mean_squared_error'.\n",
      "  warnings.warn(\n"
     ]
    }
   ],
   "source": [
    "# Treinar um RandomForest simples e rápido (explicação curta: modelo de conjunto que funciona bem)\n",
    "from sklearn.ensemble import RandomForestRegressor\n",
    "from sklearn.metrics import mean_absolute_error, mean_squared_error, r2_score\n",
    "import joblib\n",
    "\n",
    "rf = RandomForestRegressor(n_estimators=150, max_depth=12, random_state=42)\n",
    "rf.fit(X_train, y_train)\n",
    "y_pred = rf.predict(X_test)\n",
    "\n",
    "mae = mean_absolute_error(y_test, y_pred)\n",
    "rmse = mean_squared_error(y_test, y_pred, squared=False)\n",
    "r2 = r2_score(y_test, y_pred)\n",
    "\n",
    "print(f'MAE: {mae:.2f}, RMSE: {rmse:.2f}, R2: {r2:.3f}')"
   ]
  },
  {
   "cell_type": "markdown",
   "id": "6db716e6",
   "metadata": {},
   "source": [
    "### ATT:\n",
    "\n",
    "MAE e RMSE mostram erro em unidades de visitantes — quanto mais baixos, melhor. R² indica quanta variação foi explicada pelo modelo (1.0 é perfeito)."
   ]
  },
  {
   "cell_type": "markdown",
   "id": "c0d02d41",
   "metadata": {},
   "source": [
    "### Refinamento: procura simples de hiperparâmetros (GridSearch reduzido)\n",
    "\n",
    "Para não demorar muito, faremos uma procura reduzida por `n_estimators` e `max_depth`."
   ]
  },
  {
   "cell_type": "code",
   "execution_count": 22,
   "id": "cc53480e",
   "metadata": {},
   "outputs": [
    {
     "name": "stdout",
     "output_type": "stream",
     "text": [
      "Melhores params: {'max_depth': 8, 'n_estimators': 200}\n",
      "MAE: 213.6968750000001\n",
      "RMSE: 431.8631781775625\n",
      "R2: 0.9338106780992\n"
     ]
    },
    {
     "name": "stderr",
     "output_type": "stream",
     "text": [
      "C:\\Users\\DAM\\anaconda3\\Lib\\site-packages\\sklearn\\metrics\\_regression.py:492: FutureWarning: 'squared' is deprecated in version 1.4 and will be removed in 1.6. To calculate the root mean squared error, use the function'root_mean_squared_error'.\n",
      "  warnings.warn(\n"
     ]
    }
   ],
   "source": [
    "from sklearn.model_selection import GridSearchCV\n",
    "from sklearn.ensemble import RandomForestRegressor\n",
    "\n",
    "param_grid = {'n_estimators':[100,150,200],'max_depth':[8,12,16]}\n",
    "grid = GridSearchCV(RandomForestRegressor(random_state=42), param_grid, cv=3, scoring='r2', n_jobs=-1)\n",
    "grid.fit(X_train, y_train)\n",
    "print('Melhores params:', grid.best_params_)\n",
    "best_rf = grid.best_estimator_\n",
    "y_pred_best = best_rf.predict(X_test)\n",
    "\n",
    "from sklearn.metrics import mean_absolute_error, mean_squared_error, r2_score\n",
    "print('MAE:', mean_absolute_error(y_test, y_pred_best))\n",
    "print('RMSE:', mean_squared_error(y_test, y_pred_best, squared=False))\n",
    "print('R2:', r2_score(y_test, y_pred_best))"
   ]
  },
  {
   "cell_type": "markdown",
   "id": "8f51b0e2",
   "metadata": {},
   "source": [
    "### Validação temporal para previsão (Prophet)\n",
    "\n",
    "O Prophet é excelente para séries temporais. Aqui mostramos como preparar os dados para Prophet (se não estiver instalado, mostramos alternativa simples)."
   ]
  },
  {
   "cell_type": "code",
   "execution_count": 24,
   "id": "ac3adfa6",
   "metadata": {},
   "outputs": [
    {
     "data": {
      "text/html": [
       "<div>\n",
       "<style scoped>\n",
       "    .dataframe tbody tr th:only-of-type {\n",
       "        vertical-align: middle;\n",
       "    }\n",
       "\n",
       "    .dataframe tbody tr th {\n",
       "        vertical-align: top;\n",
       "    }\n",
       "\n",
       "    .dataframe thead th {\n",
       "        text-align: right;\n",
       "    }\n",
       "</style>\n",
       "<table border=\"1\" class=\"dataframe\">\n",
       "  <thead>\n",
       "    <tr style=\"text-align: right;\">\n",
       "      <th></th>\n",
       "      <th>ds</th>\n",
       "      <th>y</th>\n",
       "    </tr>\n",
       "  </thead>\n",
       "  <tbody>\n",
       "    <tr>\n",
       "      <th>0</th>\n",
       "      <td>2022-01-31</td>\n",
       "      <td>14623</td>\n",
       "    </tr>\n",
       "    <tr>\n",
       "      <th>1</th>\n",
       "      <td>2022-02-28</td>\n",
       "      <td>14045</td>\n",
       "    </tr>\n",
       "    <tr>\n",
       "      <th>2</th>\n",
       "      <td>2022-03-31</td>\n",
       "      <td>15335</td>\n",
       "    </tr>\n",
       "    <tr>\n",
       "      <th>3</th>\n",
       "      <td>2022-04-30</td>\n",
       "      <td>15277</td>\n",
       "    </tr>\n",
       "    <tr>\n",
       "      <th>4</th>\n",
       "      <td>2022-05-31</td>\n",
       "      <td>15552</td>\n",
       "    </tr>\n",
       "  </tbody>\n",
       "</table>\n",
       "</div>"
      ],
      "text/plain": [
       "          ds      y\n",
       "0 2022-01-31  14623\n",
       "1 2022-02-28  14045\n",
       "2 2022-03-31  15335\n",
       "3 2022-04-30  15277\n",
       "4 2022-05-31  15552"
      ]
     },
     "execution_count": 24,
     "metadata": {},
     "output_type": "execute_result"
    }
   ],
   "source": [
    "# Preparar série temporal para Prophet (exemplo)\n",
    "df_ts = df_model[['data','visitantes_totais']].rename(columns={'data':'ds','visitantes_totais':'y'}).reset_index(drop=True)\n",
    "df_ts.head()"
   ]
  },
  {
   "cell_type": "code",
   "execution_count": 25,
   "id": "cd99d715",
   "metadata": {},
   "outputs": [
    {
     "name": "stdout",
     "output_type": "stream",
     "text": [
      "Prophet não disponível no ambiente. Iremos usar uma previsão simples como alternativa.\n",
      "Previsão alternativa (próximos 6 meses): [15848, 16273, 16111, 15586, 15424, 15848]\n"
     ]
    }
   ],
   "source": [
    "# Tentar usar Prophet; se não estiver instalado, usar uma previsão simples (média + sazonalidade)\n",
    "try:\n",
    "    from prophet import Prophet\n",
    "    use_prophet = True\n",
    "except Exception as e:\n",
    "    print('Prophet não disponível no ambiente. Iremos usar uma previsão simples como alternativa.')\n",
    "    use_prophet = False\n",
    "\n",
    "if use_prophet:\n",
    "    m = Prophet(yearly_seasonality=True, weekly_seasonality=False, daily_seasonality=False)\n",
    "    m.fit(df_ts)\n",
    "    future = m.make_future_dataframe(periods=6, freq='M')\n",
    "    forecast = m.predict(future)\n",
    "    display(forecast[['ds','yhat','yhat_lower','yhat_upper']].tail())\n",
    "else:\n",
    "    # Alternativa simples: média dos últimos 12 meses + padrão sazonal mensal\n",
    "    last12 = df_ts['y'].values[-12:]\n",
    "    base = np.mean(last12)\n",
    "    season = np.sin(np.linspace(0,2*np.pi,6)) * (np.std(last12)/4)\n",
    "    approx_forecast = (base + season).round().astype(int)\n",
    "    print('Previsão alternativa (próximos 6 meses):', approx_forecast.tolist())"
   ]
  },
  {
   "cell_type": "markdown",
   "id": "9ba19f42",
   "metadata": {},
   "source": [
    "## 3. Implantação (serialização do modelo e testes de carregamento)\n",
    "\n",
    "Agora vamos salvar o modelo treinado e mostrar como carregá-lo de novo. Isto é o que faríamos antes de integrar ao portal web (Streamlit) ou a uma API."
   ]
  },
  {
   "cell_type": "code",
   "execution_count": 27,
   "id": "3cf48d57",
   "metadata": {},
   "outputs": [
    {
     "name": "stdout",
     "output_type": "stream",
     "text": [
      "Modelo salvo em modelo_random_forest_demo.pkl\n"
     ]
    }
   ],
   "source": [
    "# Salvar o melhor modelo (joblib)\n",
    "import joblib\n",
    "joblib.dump(best_rf, 'modelo_random_forest_demo.pkl')\n",
    "print('Modelo salvo em modelo_random_forest_demo.pkl')"
   ]
  },
  {
   "cell_type": "code",
   "execution_count": 28,
   "id": "8281c8e2",
   "metadata": {},
   "outputs": [
    {
     "name": "stdout",
     "output_type": "stream",
     "text": [
      "Input de teste: [[6.12100000e+01 5.24830411e+04 8.93395279e-02 5.78366667e-03\n",
      "  6.98000000e+01 2.35000000e+01]]\n",
      "Predição carregada: 17493\n"
     ]
    },
    {
     "name": "stderr",
     "output_type": "stream",
     "text": [
      "C:\\Users\\DAM\\anaconda3\\Lib\\site-packages\\sklearn\\base.py:493: UserWarning: X does not have valid feature names, but RandomForestRegressor was fitted with feature names\n",
      "  warnings.warn(\n"
     ]
    }
   ],
   "source": [
    "# Testar carregamento e previsão rápida com o modelo salvo\n",
    "loaded = joblib.load('modelo_random_forest_demo.pkl')\n",
    "sample = X_test.iloc[-1:].values\n",
    "print('Input de teste:', sample)\n",
    "print('Predição carregada:', int(loaded.predict(sample)[0]))"
   ]
  },
  {
   "cell_type": "markdown",
   "id": "bac7c9f9",
   "metadata": {},
   "source": [
    "### Obs:\n",
    "\n",
    "Salvar o modelo permite que outro software (por exemplo, a app Streamlit) carregue o modelo e gere previsões sem treinar tudo de novo. Para produção, guardaríamos também o pipeline de transformação e controlaríamos versões."
   ]
  },
  {
   "cell_type": "markdown",
   "id": "9881d7ee",
   "metadata": {},
   "source": [
    "## ATT:\n",
    "\n",
    "Neste notebook montámos: criação de dados sintéticos coerentes com a recolha teórica, limpeza e engenharia de features, treino e refinamento de um RandomForest para previsão de visitantes, e a serialização do modelo para implantação. O estilo das explicações é direto e simples para facilitar o entendimento de um aprendiz."
   ]
  }
 ],
 "metadata": {
  "kernelspec": {
   "display_name": "Python [conda env:base] *",
   "language": "python",
   "name": "conda-base-py"
  },
  "language_info": {
   "codemirror_mode": {
    "name": "ipython",
    "version": 3
   },
   "file_extension": ".py",
   "mimetype": "text/x-python",
   "name": "python",
   "nbconvert_exporter": "python",
   "pygments_lexer": "ipython3",
   "version": "3.12.3"
  }
 },
 "nbformat": 4,
 "nbformat_minor": 5
}
