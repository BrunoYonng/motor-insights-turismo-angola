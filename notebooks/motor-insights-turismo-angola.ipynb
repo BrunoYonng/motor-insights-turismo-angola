{
 "cells": [
  {
   "cell_type": "markdown",
   "id": "80604dc5",
   "metadata": {},
   "source": [
    "# Motor de Insights — Pipeline Completo\n",
    "**Sumário:** 1. geração de dados sintéticos, 2. treino, salvamento e carregamento de modelo RandomForest.\n",
    "\n",
    "**Objetivo:** Documentar o fluxo completo de geração de dados sintéticos, treino de modelos e salvamento para uso futuro.\n",
    "\n",
    "\n",
    "**Autores:** Grupo nº17 - BootCampo FTL Angola  \n",
    "**Data:** 2025"
   ]
  },
  {
   "cell_type": "code",
   "execution_count": 2,
   "id": "a0a92ba2",
   "metadata": {},
   "outputs": [
    {
     "name": "stdout",
     "output_type": "stream",
     "text": [
      "Paths configurados:\n",
      " - Dataset: ../data/raw/dados_sinteticos.csv\n",
      " - Modelo: ../src/Motor_de_Insights_Streamlit/models/modelo_sintetico.pkl\n"
     ]
    }
   ],
   "source": [
    "import os\n",
    "import pandas as pd\n",
    "import numpy as np\n",
    "import matplotlib.pyplot as plt\n",
    "from datetime import datetime\n",
    "from sklearn.ensemble import RandomForestRegressor\n",
    "from sklearn.model_selection import train_test_split\n",
    "from sklearn.preprocessing import MinMaxScaler\n",
    "from sklearn.metrics import mean_absolute_error, mean_squared_error, r2_score\n",
    "import joblib\n",
    "import warnings\n",
    "warnings.filterwarnings('ignore')\n",
    "\n",
    "# Diretórios base (ajuste conforme necessário)\n",
    "path_data = '../data/raw/dados_sinteticos.csv'\n",
    "path_model = '../src/Motor_de_Insights_Streamlit/models/modelo_sintetico.pkl'\n",
    "\n",
    "os.makedirs(os.path.dirname(path_data), exist_ok=True)\n",
    "os.makedirs(os.path.dirname(path_model), exist_ok=True)\n",
    "\n",
    "print('Paths configurados:')\n",
    "print(' - Dataset:', path_data)\n",
    "print(' - Modelo:', path_model)"
   ]
  },
  {
   "cell_type": "markdown",
   "id": "4ad4e778",
   "metadata": {},
   "source": [
    "## 1️⃣ Geração de Dados Sintéticos"
   ]
  },
  {
   "cell_type": "code",
   "execution_count": 4,
   "id": "45e1915c",
   "metadata": {},
   "outputs": [
    {
     "name": "stdout",
     "output_type": "stream",
     "text": [
      "✅ Dataset sintético salvo em: ../data/raw/dados_sinteticos.csv\n"
     ]
    },
    {
     "data": {
      "text/html": [
       "<div>\n",
       "<style scoped>\n",
       "    .dataframe tbody tr th:only-of-type {\n",
       "        vertical-align: middle;\n",
       "    }\n",
       "\n",
       "    .dataframe tbody tr th {\n",
       "        vertical-align: top;\n",
       "    }\n",
       "\n",
       "    .dataframe thead th {\n",
       "        text-align: right;\n",
       "    }\n",
       "</style>\n",
       "<table border=\"1\" class=\"dataframe\">\n",
       "  <thead>\n",
       "    <tr style=\"text-align: right;\">\n",
       "      <th></th>\n",
       "      <th>date</th>\n",
       "      <th>province</th>\n",
       "      <th>visitors</th>\n",
       "      <th>occupancy_rate</th>\n",
       "      <th>revenue</th>\n",
       "      <th>mobility_index</th>\n",
       "      <th>env_index</th>\n",
       "      <th>events_count</th>\n",
       "    </tr>\n",
       "  </thead>\n",
       "  <tbody>\n",
       "    <tr>\n",
       "      <th>0</th>\n",
       "      <td>2018-01-01</td>\n",
       "      <td>Bengo</td>\n",
       "      <td>14827</td>\n",
       "      <td>60.974897</td>\n",
       "      <td>827993.828159</td>\n",
       "      <td>50.877766</td>\n",
       "      <td>83.066841</td>\n",
       "      <td>0</td>\n",
       "    </tr>\n",
       "    <tr>\n",
       "      <th>1</th>\n",
       "      <td>2018-02-01</td>\n",
       "      <td>Bengo</td>\n",
       "      <td>19268</td>\n",
       "      <td>47.438944</td>\n",
       "      <td>714540.514850</td>\n",
       "      <td>52.236889</td>\n",
       "      <td>81.515166</td>\n",
       "      <td>0</td>\n",
       "    </tr>\n",
       "    <tr>\n",
       "      <th>2</th>\n",
       "      <td>2018-03-01</td>\n",
       "      <td>Bengo</td>\n",
       "      <td>19776</td>\n",
       "      <td>28.879074</td>\n",
       "      <td>571216.162395</td>\n",
       "      <td>53.235833</td>\n",
       "      <td>79.195856</td>\n",
       "      <td>1</td>\n",
       "    </tr>\n",
       "    <tr>\n",
       "      <th>3</th>\n",
       "      <td>2018-04-01</td>\n",
       "      <td>Bengo</td>\n",
       "      <td>22539</td>\n",
       "      <td>43.762505</td>\n",
       "      <td>918500.872939</td>\n",
       "      <td>47.536275</td>\n",
       "      <td>81.672876</td>\n",
       "      <td>2</td>\n",
       "    </tr>\n",
       "    <tr>\n",
       "      <th>4</th>\n",
       "      <td>2018-05-01</td>\n",
       "      <td>Bengo</td>\n",
       "      <td>18401</td>\n",
       "      <td>34.890794</td>\n",
       "      <td>577673.997482</td>\n",
       "      <td>52.849410</td>\n",
       "      <td>81.906043</td>\n",
       "      <td>1</td>\n",
       "    </tr>\n",
       "  </tbody>\n",
       "</table>\n",
       "</div>"
      ],
      "text/plain": [
       "        date province  visitors  occupancy_rate        revenue  \\\n",
       "0 2018-01-01    Bengo     14827       60.974897  827993.828159   \n",
       "1 2018-02-01    Bengo     19268       47.438944  714540.514850   \n",
       "2 2018-03-01    Bengo     19776       28.879074  571216.162395   \n",
       "3 2018-04-01    Bengo     22539       43.762505  918500.872939   \n",
       "4 2018-05-01    Bengo     18401       34.890794  577673.997482   \n",
       "\n",
       "   mobility_index  env_index  events_count  \n",
       "0       50.877766  83.066841             0  \n",
       "1       52.236889  81.515166             0  \n",
       "2       53.235833  79.195856             1  \n",
       "3       47.536275  81.672876             2  \n",
       "4       52.849410  81.906043             1  "
      ]
     },
     "execution_count": 4,
     "metadata": {},
     "output_type": "execute_result"
    }
   ],
   "source": [
    "np.random.seed(42)\n",
    "provinces = [\n",
    "    \"Bengo\", \"Benguela\", \"Bié\", \"Cabinda\", \"Cuando-Cubango\", \"Cuanza Norte\",\n",
    "    \"Cuanza Sul\", \"Cunene\", \"Huambo\", \"Huíla\", \"Luanda\", \"Lunda Norte\",\n",
    "    \"Lunda Sul\", \"Malanje\", \"Moxico\", \"Namibe\", \"Uíge\", \"Zaire\",\n",
    "    \"Icolo Bengo\", \"Moxico Leste\", \"Moxico Sul\"\n",
    "]\n",
    "dates = pd.date_range('2018-01-01', '2024-12-01', freq='MS')\n",
    "\n",
    "rows = []\n",
    "for prov in provinces:\n",
    "    base_visitors = np.random.randint(2000, 50000)\n",
    "    seasonality = np.sin(np.linspace(0, 2*np.pi, len(dates)))\n",
    "    growth = np.linspace(0, 0.25, len(dates))\n",
    "    noise = np.random.normal(0, 0.15, len(dates))\n",
    "    for i, d in enumerate(dates):\n",
    "        visitors = max(0, int(base_visitors * (1 + growth[i]) * (1 + 0.4*seasonality[i]) * (1 + noise[i])))\n",
    "        occupancy = min(100, max(10, np.random.normal(50 + (growth[i]*20), 8)))\n",
    "        revenue = visitors * np.random.uniform(20, 60)\n",
    "        mobility = np.clip(50 + 10*seasonality[i] + np.random.normal(0,5), 10, 100)\n",
    "        env_index = np.clip(100 - (visitors/1000) + np.random.normal(0,3), 0, 100)\n",
    "        events = np.random.poisson(lam=2 if d.month in [7,8,9] else 0.7)\n",
    "        rows.append([d, prov, visitors, occupancy, revenue, mobility, env_index, events])\n",
    "\n",
    "df = pd.DataFrame(rows, columns=['date','province','visitors','occupancy_rate','revenue','mobility_index','env_index','events_count'])\n",
    "df.to_csv(path_data, index=False)\n",
    "print(f\"✅ Dataset sintético salvo em: {path_data}\")\n",
    "df.head()"
   ]
  },
  {
   "cell_type": "markdown",
   "id": "8f134be1",
   "metadata": {},
   "source": [
    "## 2️⃣ Pré-processamento e Features"
   ]
  },
  {
   "cell_type": "code",
   "execution_count": 6,
   "id": "af7715f6",
   "metadata": {},
   "outputs": [
    {
     "data": {
      "text/html": [
       "<div>\n",
       "<style scoped>\n",
       "    .dataframe tbody tr th:only-of-type {\n",
       "        vertical-align: middle;\n",
       "    }\n",
       "\n",
       "    .dataframe tbody tr th {\n",
       "        vertical-align: top;\n",
       "    }\n",
       "\n",
       "    .dataframe thead th {\n",
       "        text-align: right;\n",
       "    }\n",
       "</style>\n",
       "<table border=\"1\" class=\"dataframe\">\n",
       "  <thead>\n",
       "    <tr style=\"text-align: right;\">\n",
       "      <th></th>\n",
       "      <th>date</th>\n",
       "      <th>province</th>\n",
       "      <th>visitors</th>\n",
       "      <th>occupancy_rate</th>\n",
       "      <th>revenue</th>\n",
       "      <th>mobility_index</th>\n",
       "      <th>env_index</th>\n",
       "      <th>events_count</th>\n",
       "      <th>visitors_lag1</th>\n",
       "      <th>monthly_growth</th>\n",
       "      <th>revenue_per_visitor</th>\n",
       "      <th>area_km2</th>\n",
       "      <th>tourist_density</th>\n",
       "    </tr>\n",
       "  </thead>\n",
       "  <tbody>\n",
       "    <tr>\n",
       "      <th>0</th>\n",
       "      <td>2018-02-01</td>\n",
       "      <td>Bengo</td>\n",
       "      <td>19268</td>\n",
       "      <td>47.438944</td>\n",
       "      <td>714540.514850</td>\n",
       "      <td>52.236889</td>\n",
       "      <td>81.515166</td>\n",
       "      <td>0</td>\n",
       "      <td>14827.0</td>\n",
       "      <td>0.299521</td>\n",
       "      <td>37.084312</td>\n",
       "      <td>33975</td>\n",
       "      <td>0.567123</td>\n",
       "    </tr>\n",
       "    <tr>\n",
       "      <th>1</th>\n",
       "      <td>2018-03-01</td>\n",
       "      <td>Bengo</td>\n",
       "      <td>19776</td>\n",
       "      <td>28.879074</td>\n",
       "      <td>571216.162395</td>\n",
       "      <td>53.235833</td>\n",
       "      <td>79.195856</td>\n",
       "      <td>1</td>\n",
       "      <td>19268.0</td>\n",
       "      <td>0.026365</td>\n",
       "      <td>28.884312</td>\n",
       "      <td>58242</td>\n",
       "      <td>0.339549</td>\n",
       "    </tr>\n",
       "    <tr>\n",
       "      <th>2</th>\n",
       "      <td>2018-04-01</td>\n",
       "      <td>Bengo</td>\n",
       "      <td>22539</td>\n",
       "      <td>43.762505</td>\n",
       "      <td>918500.872939</td>\n",
       "      <td>47.536275</td>\n",
       "      <td>81.672876</td>\n",
       "      <td>2</td>\n",
       "      <td>19776.0</td>\n",
       "      <td>0.139715</td>\n",
       "      <td>40.751625</td>\n",
       "      <td>51546</td>\n",
       "      <td>0.437260</td>\n",
       "    </tr>\n",
       "    <tr>\n",
       "      <th>3</th>\n",
       "      <td>2018-05-01</td>\n",
       "      <td>Bengo</td>\n",
       "      <td>18401</td>\n",
       "      <td>34.890794</td>\n",
       "      <td>577673.997482</td>\n",
       "      <td>52.849410</td>\n",
       "      <td>81.906043</td>\n",
       "      <td>1</td>\n",
       "      <td>22539.0</td>\n",
       "      <td>-0.183593</td>\n",
       "      <td>31.393620</td>\n",
       "      <td>31551</td>\n",
       "      <td>0.583214</td>\n",
       "    </tr>\n",
       "    <tr>\n",
       "      <th>4</th>\n",
       "      <td>2018-06-01</td>\n",
       "      <td>Bengo</td>\n",
       "      <td>19099</td>\n",
       "      <td>46.840331</td>\n",
       "      <td>594854.752818</td>\n",
       "      <td>52.733513</td>\n",
       "      <td>81.805642</td>\n",
       "      <td>0</td>\n",
       "      <td>18401.0</td>\n",
       "      <td>0.037933</td>\n",
       "      <td>31.145859</td>\n",
       "      <td>45928</td>\n",
       "      <td>0.415847</td>\n",
       "    </tr>\n",
       "  </tbody>\n",
       "</table>\n",
       "</div>"
      ],
      "text/plain": [
       "        date province  visitors  occupancy_rate        revenue  \\\n",
       "0 2018-02-01    Bengo     19268       47.438944  714540.514850   \n",
       "1 2018-03-01    Bengo     19776       28.879074  571216.162395   \n",
       "2 2018-04-01    Bengo     22539       43.762505  918500.872939   \n",
       "3 2018-05-01    Bengo     18401       34.890794  577673.997482   \n",
       "4 2018-06-01    Bengo     19099       46.840331  594854.752818   \n",
       "\n",
       "   mobility_index  env_index  events_count  visitors_lag1  monthly_growth  \\\n",
       "0       52.236889  81.515166             0        14827.0        0.299521   \n",
       "1       53.235833  79.195856             1        19268.0        0.026365   \n",
       "2       47.536275  81.672876             2        19776.0        0.139715   \n",
       "3       52.849410  81.906043             1        22539.0       -0.183593   \n",
       "4       52.733513  81.805642             0        18401.0        0.037933   \n",
       "\n",
       "   revenue_per_visitor  area_km2  tourist_density  \n",
       "0            37.084312     33975         0.567123  \n",
       "1            28.884312     58242         0.339549  \n",
       "2            40.751625     51546         0.437260  \n",
       "3            31.393620     31551         0.583214  \n",
       "4            31.145859     45928         0.415847  "
      ]
     },
     "execution_count": 6,
     "metadata": {},
     "output_type": "execute_result"
    }
   ],
   "source": [
    "df['date'] = pd.to_datetime(df['date'])\n",
    "df['visitors_lag1'] = df.groupby('province')['visitors'].shift(1)\n",
    "df['monthly_growth'] = (df['visitors'] - df['visitors_lag1']) / df['visitors_lag1']\n",
    "df['monthly_growth'] = df['monthly_growth'].fillna(0)\n",
    "df['revenue_per_visitor'] = df['revenue'] / df['visitors']\n",
    "df['area_km2'] = np.random.randint(5000, 70000, len(df))\n",
    "df['tourist_density'] = df['visitors'] / df['area_km2']\n",
    "df = df.dropna().reset_index(drop=True)\n",
    "df.head()"
   ]
  },
  {
   "cell_type": "markdown",
   "id": "8ee03c46",
   "metadata": {},
   "source": [
    "## 3️⃣ Treino do Modelo (RandomForest)"
   ]
  },
  {
   "cell_type": "code",
   "execution_count": 8,
   "id": "82751146",
   "metadata": {},
   "outputs": [
    {
     "name": "stdout",
     "output_type": "stream",
     "text": [
      "Treino concluído — MAE=2260.92, RMSE=2860.54, R2=0.973\n"
     ]
    }
   ],
   "source": [
    "features = ['visitors_lag1','occupancy_rate','revenue_per_visitor','mobility_index','env_index','events_count','tourist_density']\n",
    "X = df[features]\n",
    "y = df['visitors']\n",
    "\n",
    "scaler = MinMaxScaler()\n",
    "X_scaled = scaler.fit_transform(X)\n",
    "\n",
    "X_train, X_test, y_train, y_test = train_test_split(X_scaled, y, test_size=0.2, shuffle=False)\n",
    "model = RandomForestRegressor(n_estimators=200, max_depth=15, random_state=42)\n",
    "model.fit(X_train, y_train)\n",
    "pred = model.predict(X_test)\n",
    "\n",
    "mae = mean_absolute_error(y_test, pred)\n",
    "rmse = mean_squared_error(y_test, pred, squared=False)\n",
    "r2 = r2_score(y_test, pred)\n",
    "\n",
    "print(f\"Treino concluído — MAE={mae:.2f}, RMSE={rmse:.2f}, R2={r2:.3f}\")"
   ]
  },
  {
   "cell_type": "markdown",
   "id": "aa86348e",
   "metadata": {},
   "source": [
    "## 4️⃣ Salvamento do Modelo"
   ]
  },
  {
   "cell_type": "code",
   "execution_count": 10,
   "id": "368ed02d",
   "metadata": {},
   "outputs": [
    {
     "name": "stdout",
     "output_type": "stream",
     "text": [
      "Modelo salvo em: ../src/Motor_de_Insights_Streamlit/models/modelo_sintetico.pkl\n"
     ]
    }
   ],
   "source": [
    "joblib.dump(model, path_model)\n",
    "print(f\"Modelo salvo em: {path_model}\")"
   ]
  },
  {
   "cell_type": "markdown",
   "id": "51296fc8",
   "metadata": {},
   "source": [
    "## 5️⃣ Carregamento e Teste do Modelo Salvo"
   ]
  },
  {
   "cell_type": "code",
   "execution_count": 12,
   "id": "5216902b",
   "metadata": {},
   "outputs": [
    {
     "name": "stdout",
     "output_type": "stream",
     "text": [
      "Modelo carregado com sucesso. Exemplo de previsões: [19114.73194454 22308.2445     19459.73979319 20834.1707619\n",
      " 19619.91736655]\n"
     ]
    }
   ],
   "source": [
    "modelo_carregado = joblib.load(path_model)\n",
    "pred_test = modelo_carregado.predict(X_test)\n",
    "print(\"Modelo carregado com sucesso. Exemplo de previsões:\", pred_test[:5])"
   ]
  },
  {
   "cell_type": "markdown",
   "id": "eb884467",
   "metadata": {},
   "source": [
    "## 6️⃣ (Opcional) Treinar e salvar um modelo por província"
   ]
  },
  {
   "cell_type": "code",
   "execution_count": 14,
   "id": "504bf11a",
   "metadata": {},
   "outputs": [],
   "source": [
    "# for prov in provinces:\n",
    "#     df_p = df[df['province']==prov].dropna()\n",
    "#     if len(df_p) < 12:\n",
    "#         continue\n",
    "#     X_p = df_p[features]\n",
    "#     y_p = df_p['visitors']\n",
    "#     Xp_train, Xp_test, yp_train, yp_test = train_test_split(X_p, y_p, test_size=0.2, shuffle=False)\n",
    "#     model_p = RandomForestRegressor(n_estimators=200, random_state=42)\n",
    "#     model_p.fit(Xp_train, yp_train)\n",
    "#     path_model_prov = f\"../src/Motor_de_Insights_Streamlit/models/modelo_{prov}.pkl\"\n",
    "#     joblib.dump(model_p, path_model_prov)\n",
    "#     print(f\"Modelo salvo para {prov}: {path_model_prov}\")"
   ]
  },
  {
   "cell_type": "markdown",
   "id": "0f2497ca",
   "metadata": {},
   "source": [
    "## ATT:\n",
    "Este notebook:\n",
    "- Gera e salva dados sintéticos em `../data/raw/`\n",
    "- Treina um modelo preditivo e salva em `../src/Motor_de_Insights_Streamlit/models/`\n",
    "- Carrega o modelo salvo e executa previsões.\n",
    "\n",
    "Pronto para integração com o módulo Streamlit (`app.py`)."
   ]
  }
 ],
 "metadata": {
  "kernelspec": {
   "display_name": "Python [conda env:base] *",
   "language": "python",
   "name": "conda-base-py"
  },
  "language_info": {
   "codemirror_mode": {
    "name": "ipython",
    "version": 3
   },
   "file_extension": ".py",
   "mimetype": "text/x-python",
   "name": "python",
   "nbconvert_exporter": "python",
   "pygments_lexer": "ipython3",
   "version": "3.12.3"
  }
 },
 "nbformat": 4,
 "nbformat_minor": 5
}
