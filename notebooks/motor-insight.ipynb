{
 "cells": [
  {
   "cell_type": "code",
   "execution_count": null,
   "id": "40e9d0be-b538-4c4e-aab2-96ee3ca4607f",
   "metadata": {},
   "outputs": [],
   "source": []
  }
 ],
 "metadata": {
  "kernelspec": {
   "display_name": "",
   "name": ""
  },
  "language_info": {
   "name": ""
  }
 },
 "nbformat": 4,
 "nbformat_minor": 5
}
